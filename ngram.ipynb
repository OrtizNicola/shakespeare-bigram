{
 "cells": [
  {
   "cell_type": "code",
   "execution_count": 93,
   "id": "9823bc55-b055-4be3-89fc-320d24612e22",
   "metadata": {},
   "outputs": [
    {
     "name": "stdout",
     "output_type": "stream",
     "text": [
      "\"First Citizen:\n",
      "Before we proceed any further, hear me speak.\n",
      "\n",
      "All:\n",
      "Speak, speak.\n",
      "\n",
      "First Citizen:\n",
      "You are all resolved rather to die than to famish?\n",
      "\n",
      "All:\n",
      "Resolved. resolved.\n",
      "\n",
      "First Citizen:\n",
      "First, you know Caius Marcius is chief enemy to the people.\n",
      "\n",
      "All:\n",
      "We know't, we know't.\n"
     ]
    }
   ],
   "source": [
    "# dataset downloaded from kaggle\n",
    "# https://www.kaggle.com/datasets/thedevastator/the-bards-best-a-character-modeling-dataset/data\n",
    "# this dataset comes with a train-val-test split but i'll just be using the train and val one\n",
    "\n",
    "def read_dataset(path):\n",
    "    with open(path, 'r') as f:\n",
    "        next(f)\n",
    "        text = f.read()\n",
    "    return text\n",
    "\n",
    "train_text = read_dataset('./data/train.csv')\n",
    "val_text = read_dataset('./data/validation.csv')\n",
    "\n",
    "print(train_text[:278])"
   ]
  },
  {
   "cell_type": "code",
   "execution_count": 94,
   "id": "eb2843ed-e2af-4d6c-bad0-a644caf9fc80",
   "metadata": {},
   "outputs": [
    {
     "data": {
      "text/plain": [
       "1003857"
      ]
     },
     "execution_count": 94,
     "metadata": {},
     "output_type": "execute_result"
    }
   ],
   "source": [
    "len(train_text) # 1 mil characters"
   ]
  },
  {
   "cell_type": "code",
   "execution_count": 95,
   "id": "45be9618-bf06-4493-b5dc-2de4fc4933ab",
   "metadata": {},
   "outputs": [
    {
     "name": "stdout",
     "output_type": "stream",
     "text": [
      "The vocabulary size is:  66\n",
      "['\\n', ' ', '!', '\"', '$', '&', \"'\", ',', '-', '.', '3', ':', ';', '?', 'A', 'B', 'C', 'D', 'E', 'F', 'G', 'H', 'I', 'J', 'K', 'L', 'M', 'N', 'O', 'P', 'Q', 'R', 'S', 'T', 'U', 'V', 'W', 'X', 'Y', 'Z', 'a', 'b', 'c', 'd', 'e', 'f', 'g', 'h', 'i', 'j', 'k', 'l', 'm', 'n', 'o', 'p', 'q', 'r', 's', 't', 'u', 'v', 'w', 'x', 'y', 'z']\n"
     ]
    }
   ],
   "source": [
    "chars = sorted(list(set(train_text)))\n",
    "vocab_size = len(chars)\n",
    "print(\"The vocabulary size is: \", vocab_size)\n",
    "print(chars)"
   ]
  },
  {
   "cell_type": "code",
   "execution_count": 96,
   "id": "1d0608b8-49f9-4c0d-987e-4260666facbf",
   "metadata": {},
   "outputs": [],
   "source": [
    "# tokenizer\n",
    "char_to_int = {s: i for i, s in enumerate(chars)}\n",
    "int_to_char = {i: s for i, s in enumerate(chars)}\n",
    "\n",
    "def tokenize(text):\n",
    "    return [char_to_int[s] for s in text]\n",
    "\n",
    "def de_tokenize(vector):\n",
    "    return ''.join([int_to_char[i] for i in vector])"
   ]
  },
  {
   "cell_type": "code",
   "execution_count": 97,
   "id": "ab7058a8-aee3-4f27-ae81-9dae1fc6f311",
   "metadata": {},
   "outputs": [
    {
     "name": "stdout",
     "output_type": "stream",
     "text": [
      "[21, 48, 7, 1, 22, 6, 52, 1, 32, 47, 40, 50, 44, 58, 55, 44, 40, 57, 44]\n",
      "Hi, I'm Shakespeare\n"
     ]
    }
   ],
   "source": [
    "print(tokenize(\"Hi, I'm Shakespeare\"))\n",
    "print(de_tokenize(tokenize(\"Hi, I'm Shakespeare\")))"
   ]
  },
  {
   "cell_type": "code",
   "execution_count": 98,
   "id": "8495d18c-39ff-4c95-9095-6c545bde0a7e",
   "metadata": {},
   "outputs": [],
   "source": [
    "# i'll use numpy to code the matrix algebra\n",
    "import numpy as np"
   ]
  },
  {
   "cell_type": "code",
   "execution_count": 100,
   "id": "fa94f45b-6b1e-4d90-9140-1f02e3084b51",
   "metadata": {},
   "outputs": [],
   "source": [
    "train_data = np.array(tokenize(train_text), dtype = np.float32)\n",
    "val_data = np.array(tokenize(val_text), dtype = np.float32)"
   ]
  },
  {
   "cell_type": "code",
   "execution_count": 83,
   "id": "8cda4ccb-3c8b-4c26-9436-16d10da03043",
   "metadata": {},
   "outputs": [
    {
     "data": {
      "text/plain": [
       "array([ 3., 19., 48., ..., 44.,  3.,  0.], dtype=float32)"
      ]
     },
     "execution_count": 83,
     "metadata": {},
     "output_type": "execute_result"
    }
   ],
   "source": []
  },
  {
   "cell_type": "code",
   "execution_count": null,
   "id": "0c2b767c-658f-4f9f-9ecf-62e24577df79",
   "metadata": {},
   "outputs": [],
   "source": []
  },
  {
   "cell_type": "code",
   "execution_count": null,
   "id": "309dc7cf-c804-4e03-ac29-0d940dd293fb",
   "metadata": {},
   "outputs": [],
   "source": []
  }
 ],
 "metadata": {
  "kernelspec": {
   "display_name": "Python 3 (ipykernel)",
   "language": "python",
   "name": "python3"
  },
  "language_info": {
   "codemirror_mode": {
    "name": "ipython",
    "version": 3
   },
   "file_extension": ".py",
   "mimetype": "text/x-python",
   "name": "python",
   "nbconvert_exporter": "python",
   "pygments_lexer": "ipython3",
   "version": "3.11.5"
  }
 },
 "nbformat": 4,
 "nbformat_minor": 5
}
